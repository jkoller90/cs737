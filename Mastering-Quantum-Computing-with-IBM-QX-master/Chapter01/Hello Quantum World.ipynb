{
 "cells": [
  {
   "cell_type": "code",
   "execution_count": 3,
   "metadata": {},
   "outputs": [],
   "source": [
    "%matplotlib inline\n",
    "import qiskit"
   ]
  },
  {
   "cell_type": "markdown",
   "metadata": {},
   "source": [
    "# Put in your API Token and Register"
   ]
  },
  {
   "cell_type": "code",
   "execution_count": 5,
   "metadata": {},
   "outputs": [
    {
     "name": "stderr",
     "output_type": "stream",
     "text": [
      "c:\\users\\jk86110p\\appdata\\local\\programs\\python\\python37-32\\lib\\site-packages\\qiskit\\providers\\ibmq\\ibmqprovider.py:251: UserWarning: Credentials are already in use.\n",
      "  warnings.warn('Credentials are already in use.')\n"
     ]
    }
   ],
   "source": [
    "from qiskit import IBMQ\n",
    "# Authenticate an account and add for use during this session. Replace string argument with your private token.\n",
    "IBMQ.enable_account(\"7ba7a84f4fbe4bbc784f3d6e9d01dfa0ac97e4fed36448b831643b4da00750acdfe7d837e92f57d2ff7646600195275f4ee332aaa5d45140a2a8068e0991cf6d\")\n",
    "# To store your credentials locally you can run:\n",
    "#IBMQ.save_account(\"INSERT_YOUR_API_TOKEN_HERE\")"
   ]
  },
  {
   "cell_type": "markdown",
   "metadata": {},
   "source": [
    "# List the available backends and pick one"
   ]
  },
  {
   "cell_type": "code",
   "execution_count": 10,
   "metadata": {},
   "outputs": [
    {
     "name": "stdout",
     "output_type": "stream",
     "text": [
      "[<IBMQBackend('ibmqx4') from IBMQ()>, <IBMQBackend('ibmq_16_melbourne') from IBMQ()>, <IBMQBackend('ibmq_qasm_simulator') from IBMQ()>]\n",
      "[<QasmSimulatorPy('qasm_simulator') from BasicAer()>, <StatevectorSimulatorPy('statevector_simulator') from BasicAer()>, <UnitarySimulatorPy('unitary_simulator') from BasicAer()>]\n"
     ]
    }
   ],
   "source": [
    "print(IBMQ.backends()) # remote IBM backends\n",
    "from qiskit import BasicAer\n",
    "print(BasicAer.backends()) # local backends"
   ]
  },
  {
   "cell_type": "code",
   "execution_count": 11,
   "metadata": {},
   "outputs": [],
   "source": [
    "# Pick an available backend\n",
    "backend = IBMQ.get_backend('ibmq_qasm_simulator') # if this isn't available pick a backend whose name containes '_qasm_simulator' from the output above"
   ]
  },
  {
   "cell_type": "markdown",
   "metadata": {},
   "source": [
    "# Run your first quantum program\n",
    "This program starts with an input of the quantum equivalent of five \"0\" bits, five quantum \"0\" bits. It then performs no action before it outputs the classical equivalent of the quantum bits. Since they haven't changed, the output should be 00000."
   ]
  },
  {
   "cell_type": "code",
   "execution_count": 12,
   "metadata": {},
   "outputs": [],
   "source": [
    "import time\n",
    "q = qiskit.QuantumRegister(5)\n",
    "c = qiskit.ClassicalRegister(5)\n",
    "qc = qiskit.QuantumCircuit(q, c)\n",
    "qc.measure(q, c)\n",
    "job_exp = qiskit.execute(qc, backend=backend)"
   ]
  },
  {
   "cell_type": "markdown",
   "metadata": {},
   "source": [
    "# Seeing the results\n",
    "Here we will get output 00000 with 100% probability as our output"
   ]
  },
  {
   "cell_type": "code",
   "execution_count": 13,
   "metadata": {},
   "outputs": [
    {
     "data": {
      "image/png": "[encoded data removed]",
      "text/plain": [
       "<Figure size 504x360 with 1 Axes>"
      ]
     },
     "execution_count": 13,
     "metadata": {},
     "output_type": "execute_result"
    }
   ],
   "source": [
    "from qiskit.tools.visualization import plot_histogram\n",
    "plot_histogram(job_exp.result().get_counts(qc))"
   ]
  },
  {
   "cell_type": "code",
   "execution_count": null,
   "metadata": {},
   "outputs": [],
   "source": []
  }
 ],
 "metadata": {
  "kernelspec": {
   "display_name": "bookkernel",
   "language": "python",
   "name": "bookkernel"
  },
  "language_info": {
   "codemirror_mode": {
    "name": "ipython",
    "version": 3
   },
   "file_extension": ".py",
   "mimetype": "text/x-python",
   "name": "python",
   "nbconvert_exporter": "python",
   "pygments_lexer": "ipython3",
   "version": "3.7.2"
  }
 },
 "nbformat": 4,
 "nbformat_minor": 2
}
